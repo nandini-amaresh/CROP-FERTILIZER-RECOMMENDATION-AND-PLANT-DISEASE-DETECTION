{
 "cells": [
  {
   "cell_type": "markdown",
   "id": "cdd89cc1-1973-45da-984f-a6d512b66ae8",
   "metadata": {},
   "source": [
    "<span style=\"font-size:22px;color:#006400;\"><strong>CROP,FERTILIZER RECOMMENDATION AND PLANT DISEASE DETECTION </strong></span>\n",
    "\n",
    "\n",
    "\n"
   ]
  },
  {
   "cell_type": "markdown",
   "id": "5f7f7d3c-c398-4445-9473-c243e761c3ac",
   "metadata": {},
   "source": [
    "<span style=\"font-size:17px;color:#228B22;\"><strong>PROBLEM STATEMENT</strong></span>\n",
    "\n",
    "<p style=\"color:#444444;\">Farmers face multiple challenges in optimizing agricultural productivity due to changes in rainfall and temperature and lack of information regarding crop selection, fertilizer use, and disease management. To address this, a comprehensive intelligent system is proposed that encompasses three key components: (a) a machine learning-based crop recommendation model that suggests the most suitable crop based on soil nutrients (N, P, K), pH, temperature, humidity, and rainfall to enhance yield and resource efficiency; (b) a fertilizer recommendation engine that analyzes nutrient deficiencies and crop type to provide balanced fertilizer suggestions, thereby improving soil health and productivity; and (c) a deep learning-powered plant disease detection system that identifies diseases from leaf images for early intervention and effective treatment, reducing crop losses and supporting sustainable farming practices.\n",
    "\n",
    "</p>\n",
    "\n"
   ]
  },
  {
   "cell_type": "markdown",
   "id": "0814eda1-1a3e-489f-944c-280a973c22ff",
   "metadata": {
    "jp-MarkdownHeadingCollapsed": true
   },
   "source": [
    "<span style=\"font-size:17px;color:#228B22;\"><strong>DATA SET</strong></span>\n",
    "\n",
    "<p style=\"color:#444444;\">The Crop_recommendation dataset contains 2200 records with 8 features related to soil and weather conditions such as nitrogen (N), phosphorus (P), potassium (K), temperature, humidity, pH, and rainfall. The target variable Crop  indicates the most suitable crop to grow under those conditions. It is ideal for building classification models to recommend crops based on environmental inputs.\n",
    " \n",
    "The Fertilizer dataset contains 99 records and 9 columns related to agricultural parameters used for predicting suitable fertilizers. It includes numeric features like temperature, humidity, moisture, and nutrient levels (nitrogen, potassium, phosphorous), as well as categorical features such as soil type and crop type. The target variable is the \"Fertilizer Name\" recommended for each set of conditions. All entries are complete with no missing values\n",
    " \n",
    "The \"New Plant Diseases Dataset\" on Kaggle is a comprehensive image dataset containing approximately 87,000 labeled images of plant leaves, both healthy and affected by various diseases. The dataset is organized into 38 classes, each representing a unique combination of crop type and disease condition, such as \"Tomato - Late Blight\" or \"Apple - Scab.\" All images are RGB and typically feature centered leaves on a plain background, making them suitable for computer vision tasks. This dataset is commonly used in plant disease detection research and is ideal for training and evaluating deep learning models, particularly convolutional neural networks (CNNs)\n",
    "</p>\n",
    "\n",
    "\n",
    "</span>\n"
   ]
  },
  {
   "cell_type": "markdown",
   "id": "fb31488e-b30d-4605-afde-2709712f3a3f",
   "metadata": {},
   "source": [
    "<span style=\"font-size:17px;color:#228B22;\"><strong>SELECTED MODELS</strong></span>\n",
    "\n",
    "<span style=\"font-size:14px;color:BLACK;\"><strong>CROP RECOMMENDATION</strong></span>\n",
    "<p style=\"color:#444444;\"> Baseline Model:Logistic Regression \n",
    " \n",
    "Model chosen after evaluation :Random Forest Classifier and Gaussian NB </p>\n",
    "\n",
    "<span style=\"font-size:14px;color:BLACK;\"><strong>FERTILIZER RECOMMENDATION</strong></span>\n",
    "<p style=\"color:#444444;\">Model chosen after evaluation :Random Forest Classifier and SVC</p>\n",
    "\n",
    "<span style=\"font-size:14px;color:BLACK;\"><strong>PLANT DISEASE DETECTION</strong></span>\n",
    "<p style=\"color:#444444;\">Convolution Neural netowrk</p>\n"
   ]
  },
  {
   "cell_type": "code",
   "execution_count": null,
   "id": "3ffe6782-ff60-4e14-9a73-4ba10069e473",
   "metadata": {},
   "outputs": [],
   "source": []
  },
  {
   "cell_type": "code",
   "execution_count": null,
   "id": "cbb0fa11-7abc-4d9c-8fa2-6b68de384dff",
   "metadata": {},
   "outputs": [],
   "source": []
  }
 ],
 "metadata": {
  "kernelspec": {
   "display_name": "Python 3 (ipykernel)",
   "language": "python",
   "name": "python3"
  },
  "language_info": {
   "codemirror_mode": {
    "name": "ipython",
    "version": 3
   },
   "file_extension": ".py",
   "mimetype": "text/x-python",
   "name": "python",
   "nbconvert_exporter": "python",
   "pygments_lexer": "ipython3",
   "version": "3.12.7"
  }
 },
 "nbformat": 4,
 "nbformat_minor": 5
}
